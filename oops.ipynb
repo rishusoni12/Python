{
 "cells": [
  {
   "cell_type": "code",
   "execution_count": 11,
   "id": "21dc998f-453d-4d08-bcd7-eae9ecd69a2c",
   "metadata": {},
   "outputs": [
    {
     "name": "stdout",
     "output_type": "stream",
     "text": [
      "Hello\n",
      "Hello\n",
      "Hello\n"
     ]
    }
   ],
   "source": [
    "print(\"Hello\")\n",
    "print(\"Hello\")\n",
    "print(\"Hello\")"
   ]
  },
  {
   "cell_type": "code",
   "execution_count": 19,
   "id": "cbaa943e-3ad3-4cb8-a7f0-6931c593b573",
   "metadata": {},
   "outputs": [
    {
     "name": "stdout",
     "output_type": "stream",
     "text": [
      "Hello\n",
      "Hello\n"
     ]
    }
   ],
   "source": [
    "#Function\n",
    "def function():\n",
    "    print(\"Hello\")\n",
    "\n",
    "function()\n",
    "function()"
   ]
  },
  {
   "cell_type": "code",
   "execution_count": 31,
   "id": "ced7ab05-8c6c-4a87-b897-0050d7ff234c",
   "metadata": {},
   "outputs": [
    {
     "data": {
      "text/plain": [
       "51"
      ]
     },
     "execution_count": 31,
     "metadata": {},
     "output_type": "execute_result"
    }
   ],
   "source": [
    "def function(a, b, c): #parameter\n",
    "    return a+b*c\n",
    "\n",
    "function(45,2,3)"
   ]
  },
  {
   "cell_type": "code",
   "execution_count": 33,
   "id": "70617249-1e27-43f0-884c-f27c5cd5e505",
   "metadata": {},
   "outputs": [
    {
     "data": {
      "text/plain": [
       "4"
      ]
     },
     "execution_count": 33,
     "metadata": {},
     "output_type": "execute_result"
    }
   ],
   "source": [
    "def fun(a):\n",
    "    return a**2  #square\n",
    "fun(2)"
   ]
  },
  {
   "cell_type": "code",
   "execution_count": 45,
   "id": "7f90685b-df95-42f5-8d22-15e7b57ca698",
   "metadata": {},
   "outputs": [
    {
     "data": {
      "text/plain": [
       "12"
      ]
     },
     "execution_count": 45,
     "metadata": {},
     "output_type": "execute_result"
    }
   ],
   "source": [
    "def func(a, b=5):  #parameter default\n",
    "    return a*b\n",
    "\n",
    "func(3,4)"
   ]
  },
  {
   "cell_type": "code",
   "execution_count": 43,
   "id": "f1fec1c8-1233-44a0-8860-1ae754739959",
   "metadata": {},
   "outputs": [
    {
     "data": {
      "text/plain": [
       "15"
      ]
     },
     "execution_count": 43,
     "metadata": {},
     "output_type": "execute_result"
    }
   ],
   "source": [
    "def func(a, b=5):  #parameter default\n",
    "    return a*b\n",
    "\n",
    "func(3)"
   ]
  },
  {
   "cell_type": "code",
   "execution_count": 71,
   "id": "3b601d6d-bfa2-462b-860a-88250c67075a",
   "metadata": {},
   "outputs": [
    {
     "name": "stdout",
     "output_type": "stream",
     "text": [
      "Hello name\n",
      "Hello A\n",
      "Hello Hello\n"
     ]
    }
   ],
   "source": [
    "def fun(b=\"name\"):\n",
    "    print(f\"Hello {b}\")\n",
    "    \n",
    "fun()\n",
    "fun(\"A\")\n",
    "fun(\"Hello\")"
   ]
  },
  {
   "cell_type": "code",
   "execution_count": 81,
   "id": "a1e7a356-774a-483b-8c1c-71eea3b89dcd",
   "metadata": {},
   "outputs": [
    {
     "data": {
      "text/plain": [
       "15"
      ]
     },
     "execution_count": 81,
     "metadata": {},
     "output_type": "execute_result"
    }
   ],
   "source": [
    "def fun(*number):\n",
    "    return sum(number)\n",
    "\n",
    "fun(1,2,3,4,5)\n"
   ]
  },
  {
   "cell_type": "code",
   "execution_count": 79,
   "id": "c5ec3899-6d79-4d09-9e64-f0a9bb3a7afd",
   "metadata": {},
   "outputs": [
    {
     "data": {
      "text/plain": [
       "0"
      ]
     },
     "execution_count": 79,
     "metadata": {},
     "output_type": "execute_result"
    }
   ],
   "source": [
    "fun()"
   ]
  },
  {
   "cell_type": "code",
   "execution_count": 107,
   "id": "dfd3e9eb-b54a-4b57-bb2d-6be3028a36f3",
   "metadata": {},
   "outputs": [
    {
     "name": "stdout",
     "output_type": "stream",
     "text": [
      "5\n"
     ]
    }
   ],
   "source": [
    "x = 5 #GLobal\n",
    "def func():\n",
    "    x = 10 #local    \n",
    "\n",
    "func()\n",
    "print(x)\n"
   ]
  },
  {
   "cell_type": "code",
   "execution_count": 109,
   "id": "f495320c-ec92-40fb-9645-8eaf99b8ed15",
   "metadata": {},
   "outputs": [],
   "source": [
    "import math "
   ]
  },
  {
   "cell_type": "code",
   "execution_count": 111,
   "id": "19381342-56b8-4bb5-ab91-7ab790dc9b75",
   "metadata": {},
   "outputs": [],
   "source": [
    "a = math"
   ]
  },
  {
   "cell_type": "code",
   "execution_count": 115,
   "id": "62d774d2-0751-4763-9d18-6b676650fa8f",
   "metadata": {},
   "outputs": [
    {
     "name": "stdout",
     "output_type": "stream",
     "text": [
      "120\n"
     ]
    }
   ],
   "source": [
    "print(a.factorial(5))"
   ]
  },
  {
   "cell_type": "code",
   "execution_count": 127,
   "id": "5050628a-39f3-4c11-99be-465fb953af0a",
   "metadata": {},
   "outputs": [
    {
     "data": {
      "text/plain": [
       "120"
      ]
     },
     "execution_count": 127,
     "metadata": {},
     "output_type": "execute_result"
    }
   ],
   "source": [
    "def func(n):\n",
    "    if n==0 or n==1:\n",
    "        return 1\n",
    "    return n*func(n-1)\n",
    "\n",
    "func(5)"
   ]
  },
  {
   "cell_type": "code",
   "execution_count": 35,
   "id": "a9ba872d-30c0-4204-8ade-0fd94cbc262f",
   "metadata": {},
   "outputs": [
    {
     "name": "stdout",
     "output_type": "stream",
     "text": [
      "5 5 i\n",
      "None\n",
      "5 5 i\n",
      "None\n"
     ]
    }
   ],
   "source": [
    "class o:\n",
    "    def func(self):\n",
    "        print(\"5\", 5, \"i\")\n",
    "\n",
    "a = o()\n",
    "b= o()\n",
    "print(a.func())\n",
    "print(b.func())"
   ]
  },
  {
   "cell_type": "code",
   "execution_count": 61,
   "id": "c75dce36-34fa-45a0-9e32-b5f95aa4d6c8",
   "metadata": {},
   "outputs": [
    {
     "name": "stdout",
     "output_type": "stream",
     "text": [
      "8gb 9gb 5g\n",
      "8gb 9gb 5g\n"
     ]
    }
   ],
   "source": [
    "class School:\n",
    "    def func(self):\n",
    "        print(\"8gb\", \"9gb\", \"5g\")\n",
    "\n",
    "a = School()\n",
    "b=School()\n",
    "a.func()\n",
    "b.func()\n",
    "#there is problem every time object all same output if we define property variable specification         "
   ]
  },
  {
   "cell_type": "code",
   "execution_count": 15,
   "id": "18e83672-a9a7-455c-8e35-b6433121d479",
   "metadata": {},
   "outputs": [
    {
     "name": "stdout",
     "output_type": "stream",
     "text": [
      "8b 5gb 42gb\n",
      "23gb 34gb 3gb\n"
     ]
    }
   ],
   "source": [
    "class school:\n",
    "    def func(self):\n",
    "        print(\"8b\", \"5gb\", \"42gb\")\n",
    "\n",
    "    def ad(self):\n",
    "        print(\"23gb\", \"34gb\", \"3gb\")\n",
    "\n",
    "a = school()\n",
    "a.func()\n",
    "a.ad()"
   ]
  },
  {
   "cell_type": "code",
   "execution_count": 53,
   "id": "d976e4d1-e214-4f18-a230-e451ccc73150",
   "metadata": {},
   "outputs": [
    {
     "name": "stdout",
     "output_type": "stream",
     "text": [
      "Name A and 3 or E and 34\n",
      "Name b and v or 3 and 6\n"
     ]
    }
   ],
   "source": [
    "class School:\n",
    "    def __init__(self, name, classs, subject, rollno): #initilize variable  special method\n",
    "        self.name = name\n",
    "        self.classs = classs\n",
    "        self.subject = subject\n",
    "        self.rollno = rollno\n",
    "\n",
    "    def func(self):\n",
    "        return f\"Name {self.name} and {self.classs} or {self.subject} and {self.rollno}\" # if we are using return there is two object no call only one call\n",
    "        \n",
    "\n",
    "a = School(\"A\", 3, \"E\", 34)\n",
    "b = School(\"b\", \"v\", 3, 6)\n",
    "\n",
    "a.func()\n",
    "b.func()\n"
   ]
  },
  {
   "cell_type": "code",
   "execution_count": 55,
   "id": "47ec2532-ed08-42ca-bbe0-fe06994dda17",
   "metadata": {},
   "outputs": [
    {
     "name": "stdout",
     "output_type": "stream",
     "text": [
      "Name A and 3 or E and 34\n",
      "Name b and v or 3 and 6\n"
     ]
    }
   ],
   "source": [
    "class School:\n",
    "    def __init__(self, name, classs, subject, rollno): #initilize variable  specisl method\n",
    "        self.name = name\n",
    "        self.classs = classs\n",
    "        self.subject = subject\n",
    "        self.rollno = rollno\n",
    "\n",
    "    def func(self):\n",
    "        print(f\"Name {self.name} and {self.classs} or {self.subject} and {self.rollno}\") # if we are using return there is two object no call only one call  if print use print\n",
    "        \n",
    "\n",
    "a = School(\"A\", 3, \"E\", 34)\n",
    "b = School(\"b\", \"v\", 3, 6)\n",
    "\n",
    "a.func()\n",
    "\n",
    "b.func()"
   ]
  },
  {
   "cell_type": "code",
   "execution_count": 7,
   "id": "5fed4911-983c-4de4-8cf2-4f5238f5e92e",
   "metadata": {},
   "outputs": [
    {
     "name": "stdout",
     "output_type": "stream",
     "text": [
      "8gb 128gb qlcom7\n"
     ]
    }
   ],
   "source": [
    "class rlmgt6:\n",
    "    def __init__(self, ram, rom, processor):\n",
    "        self.ram = ram\n",
    "        self.rom = rom\n",
    "        self.processor = processor\n",
    "        \n",
    "    def config(self):\n",
    "        print(self.ram, self.rom, self.processor)\n",
    "\n",
    "phone1 = rlmgt6(\"8gb\", \"128gb\",\"qlcom7\" )\n",
    "phone1.config()"
   ]
  },
  {
   "cell_type": "code",
   "execution_count": 23,
   "id": "925474e8-d79b-4336-ac46-d4a37b328edb",
   "metadata": {},
   "outputs": [
    {
     "name": "stdout",
     "output_type": "stream",
     "text": [
      "fear1\n",
      "fear2\n",
      "fear3\n",
      "fear4\n"
     ]
    }
   ],
   "source": [
    "#inhertance parent child  \n",
    "class a:\n",
    "    def func(self):\n",
    "        print(\"fear1\")\n",
    "    def func1(self):\n",
    "        print(\"fear2\")\n",
    "\n",
    "class b(a):\n",
    "    def func2(self):\n",
    "        print(\"fear3\")\n",
    "    def func3(self):\n",
    "        print(\"fear4\")\n",
    "\n",
    "d = b()\n",
    "d.func()\n",
    "d.func1()\n",
    "d.func2()\n",
    "d.func3()"
   ]
  },
  {
   "cell_type": "code",
   "execution_count": 25,
   "id": "e0016f2a-caec-4bea-aba6-67591936fa71",
   "metadata": {},
   "outputs": [
    {
     "name": "stdout",
     "output_type": "stream",
     "text": [
      "fear1\n",
      "fear2\n",
      "fear3\n",
      "fear4\n"
     ]
    }
   ],
   "source": [
    "class a:\n",
    "    def func(self):\n",
    "        print(\"fear1\")\n",
    "    def func1(self):\n",
    "        print(\"fear2\")\n",
    "    def func2(self):\n",
    "        print(\"fear3\")\n",
    "    def func3(self):\n",
    "        print(\"fear4\")\n",
    "\n",
    "\n",
    "\n",
    "d = a()\n",
    "d.func()\n",
    "d.func1()\n",
    "d.func2()\n",
    "d.func3()"
   ]
  },
  {
   "cell_type": "code",
   "execution_count": 7,
   "id": "95903349-d75f-4a4f-a86e-e6851cbca673",
   "metadata": {},
   "outputs": [
    {
     "name": "stdout",
     "output_type": "stream",
     "text": [
      "c\n"
     ]
    }
   ],
   "source": [
    "class a:\n",
    "    def func(self):\n",
    "        print(\"fear1\")\n",
    "    def func1(self):\n",
    "        print(\"fear2\")\n",
    "    def func2(self):\n",
    "        print(\"fear3\")\n",
    "    def func3(self):\n",
    "        print(\"fear4\")\n",
    "\n",
    "class b(a):\n",
    "    def a(self):\n",
    "        print(\"c\")\n",
    "\n",
    "\n",
    "d = b()\n",
    "# d.func()\n",
    "# d.func1()\n",
    "# d.func2()\n",
    "# d.func3()\n",
    "d.a()"
   ]
  },
  {
   "cell_type": "code",
   "execution_count": null,
   "id": "53a25b7d-16e3-4baf-aea9-970bf01e0cad",
   "metadata": {},
   "outputs": [],
   "source": []
  }
 ],
 "metadata": {
  "kernelspec": {
   "display_name": "Python 3 (ipykernel)",
   "language": "python",
   "name": "python3"
  },
  "language_info": {
   "codemirror_mode": {
    "name": "ipython",
    "version": 3
   },
   "file_extension": ".py",
   "mimetype": "text/x-python",
   "name": "python",
   "nbconvert_exporter": "python",
   "pygments_lexer": "ipython3",
   "version": "3.12.4"
  }
 },
 "nbformat": 4,
 "nbformat_minor": 5
}
