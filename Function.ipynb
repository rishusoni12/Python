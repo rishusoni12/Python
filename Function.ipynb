{
 "cells": [
  {
   "cell_type": "code",
   "execution_count": 8,
   "id": "2ace6dc4-62ed-49f3-b03b-75bf106e53ea",
   "metadata": {},
   "outputs": [
    {
     "name": "stdout",
     "output_type": "stream",
     "text": [
      "facotrial is 120\n"
     ]
    }
   ],
   "source": [
    "n = 5\n",
    "fact = 1\n",
    "for i in range(1, n+1):\n",
    "     fact = fact*i\n",
    "print(\"facotrial is\", fact)"
   ]
  },
  {
   "cell_type": "code",
   "execution_count": 93,
   "id": "66b9db76-5f7c-478f-9f8c-cbae2fc929cf",
   "metadata": {},
   "outputs": [
    {
     "name": "stdout",
     "output_type": "stream",
     "text": [
      "Factorial is  720\n",
      "factorial 720\n"
     ]
    }
   ],
   "source": [
    "n = 6\n",
    "fact = 1\n",
    "while n>1:\n",
    "    fact*=n\n",
    "    n-=1\n",
    "if n==0:\n",
    "        print(\"factorial is\",fact)\n",
    "elif n==1:\n",
    "    print(\"Factorial is \", fact)\n",
    "    \n",
    "print(\"factorial\", fact)    \n",
    "    "
   ]
  },
  {
   "cell_type": "code",
   "execution_count": null,
   "id": "0f7d783d-d04e-4eac-81af-91db1cb6b785",
   "metadata": {},
   "outputs": [],
   "source": [
    "#armstring \n"
   ]
  },
  {
   "cell_type": "code",
   "execution_count": 111,
   "id": "ac5fc539-7ba3-4923-812a-259671fbad4d",
   "metadata": {},
   "outputs": [
    {
     "name": "stdout",
     "output_type": "stream",
     "text": [
      "Dipanshu\n"
     ]
    }
   ],
   "source": [
    "def my(name):\n",
    "    print(name)\n",
    "\n",
    "my(\"Dipanshu\") "
   ]
  },
  {
   "cell_type": "code",
   "execution_count": 119,
   "id": "2c2d9801-e2e1-46c9-9ac6-0410b3553cd3",
   "metadata": {},
   "outputs": [
    {
     "name": "stdout",
     "output_type": "stream",
     "text": [
      "25\n",
      "60\n"
     ]
    }
   ],
   "source": [
    "def add(a, b):\n",
    "    print(a+b)\n",
    "\n",
    "add(22, 3)\n",
    "add(56, 4)"
   ]
  },
  {
   "cell_type": "code",
   "execution_count": 125,
   "id": "2557673e-cbb9-4c4c-ae0a-f2440a254da3",
   "metadata": {},
   "outputs": [
    {
     "name": "stdout",
     "output_type": "stream",
     "text": [
      "Even\n",
      "odd\n"
     ]
    }
   ],
   "source": [
    "def even(n):\n",
    "    if n%2==0:\n",
    "        print(\"Even\")\n",
    "    else:\n",
    "        print(\"odd\")\n",
    "even(6)\n",
    "even(5)\n",
    "    "
   ]
  },
  {
   "cell_type": "code",
   "execution_count": 133,
   "id": "c4ea9961-f0c7-4050-844b-cb3c882b93a7",
   "metadata": {},
   "outputs": [
    {
     "name": "stdout",
     "output_type": "stream",
     "text": [
      "apple D K\n"
     ]
    }
   ],
   "source": [
    "def my(a,b, c):\n",
    "    print(a,b, c)\n",
    "\n",
    "my(\"apple\", \"D\", \"K\")\n",
    "\n",
    "    "
   ]
  },
  {
   "cell_type": "code",
   "execution_count": 139,
   "id": "fe92b1a7-10c2-46e4-9673-2e31b57afb01",
   "metadata": {},
   "outputs": [
    {
     "name": "stdout",
     "output_type": "stream",
     "text": [
      "Dog\n"
     ]
    }
   ],
   "source": [
    "def my(a):\n",
    "    print(a)\n",
    "    \n",
    "\n",
    "my(\"Dog\")"
   ]
  },
  {
   "cell_type": "code",
   "execution_count": null,
   "id": "e0ff8c25-337c-4cf9-aa92-3d921111c486",
   "metadata": {},
   "outputs": [],
   "source": []
  }
 ],
 "metadata": {
  "kernelspec": {
   "display_name": "Python 3 (ipykernel)",
   "language": "python",
   "name": "python3"
  },
  "language_info": {
   "codemirror_mode": {
    "name": "ipython",
    "version": 3
   },
   "file_extension": ".py",
   "mimetype": "text/x-python",
   "name": "python",
   "nbconvert_exporter": "python",
   "pygments_lexer": "ipython3",
   "version": "3.12.4"
  }
 },
 "nbformat": 4,
 "nbformat_minor": 5
}
