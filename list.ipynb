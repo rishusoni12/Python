{
 "cells": [
  {
   "cell_type": "code",
   "execution_count": 19,
   "id": "776bb8f8-739a-4f65-893d-daa0348d3da8",
   "metadata": {},
   "outputs": [
    {
     "name": "stdout",
     "output_type": "stream",
     "text": [
      "['War', 'Banana', 'calm', 'peace', 'apple']\n"
     ]
    }
   ],
   "source": [
    "#write a programme to interchange first and last element  in a list \n",
    "A = [\"apple\", \"Banana\", \"calm\", \"peace\", \"War\"]\n",
    "A[0],A[-1]=A[-1],A[0]\n",
    "print(A)"
   ]
  },
  {
   "cell_type": "code",
   "execution_count": 24,
   "id": "e776dbe0-ca43-4655-984a-9dbaaba11cff",
   "metadata": {},
   "outputs": [
    {
     "name": "stdout",
     "output_type": "stream",
     "text": [
      "['A', 'F', 'C', 'D', 'E', 'B']\n"
     ]
    }
   ],
   "source": [
    "#write programme to Swap element  in list\n",
    "A = [\"A\", \"B\", \"C\", \"D\", \"E\", \"F\"]\n",
    "A[1],A[-1]=A[-1],A[1]\n",
    "print(A)\n"
   ]
  },
  {
   "cell_type": "code",
   "execution_count": 5,
   "id": "9a295220-a703-4d76-9405-163de726f73e",
   "metadata": {},
   "outputs": [
    {
     "name": "stdout",
     "output_type": "stream",
     "text": [
      "ebcda\n"
     ]
    }
   ],
   "source": [
    "#Write a swap element in string\n",
    "s = \"abcde\"\n",
    "\n",
    "s = s[-1] + s[1:-1] + s[0]\n",
    "\n",
    "print(s) \n"
   ]
  },
  {
   "cell_type": "code",
   "execution_count": 5,
   "id": "586b0178-16f8-4bee-9819-c5a04ea1aa3a",
   "metadata": {},
   "outputs": [
    {
     "name": "stdout",
     "output_type": "stream",
     "text": [
      "['Apple', 'Dog', 'Cat', 1, 2, 3, 4, 5, 6, True]\n",
      "10\n"
     ]
    }
   ],
   "source": [
    "#way to find lenght in list \n",
    "\n",
    "list = [\"Apple\", \"Dog\", \"Cat\", 1, 2, 3, 4, 5, 6, True]\n",
    "print(list)\n",
    "print(len(list))"
   ]
  },
  {
   "cell_type": "code",
   "execution_count": 67,
   "id": "62ef92c6-ab56-4932-be74-9c8c76ce46a4",
   "metadata": {},
   "outputs": [
    {
     "name": "stdout",
     "output_type": "stream",
     "text": [
      "maximum number of 5000000\n"
     ]
    }
   ],
   "source": [
    "#maximum two number in python \n",
    "a = 5000000\n",
    "b = 100000\n",
    "if (a<b):\n",
    "    print(\"maximum number of\", b)\n",
    "else:\n",
    "    print(\"maximum number of\",a)\n",
    "\n",
    "    "
   ]
  },
  {
   "cell_type": "code",
   "execution_count": null,
   "id": "d289bc46-a175-433b-9fd0-609cec83222d",
   "metadata": {},
   "outputs": [],
   "source": [
    "#minimum tow number in python\n",
    "a = 1\n",
    "b = 2\n",
    "if a<b:\n",
    "    print(\"minimum number is\", a)\n",
    "else:\n",
    "    print(\"minimum number is\",b)"
   ]
  },
  {
   "cell_type": "code",
   "execution_count": 71,
   "id": "acf9aeec-042f-4a22-a6f8-64ba07757dee",
   "metadata": {},
   "outputs": [
    {
     "name": "stdin",
     "output_type": "stream",
     "text": [
      "Enter a number:  23\n",
      "Enter a number:  45\n"
     ]
    },
    {
     "name": "stdout",
     "output_type": "stream",
     "text": [
      "Maximum number of 45\n"
     ]
    }
   ],
   "source": [
    "a = int(input(\"Enter a number: \"))\n",
    "b = int(input(\"Enter a number: \"))\n",
    "\n",
    "if a<b:\n",
    "        print(\"Maximum number of\",b)\n",
    "else:\n",
    "        print(\"Maximum number of\", a)\n"
   ]
  },
  {
   "cell_type": "code",
   "execution_count": 153,
   "id": "7976fd0f-c637-490d-8c97-5c02eb9c7b41",
   "metadata": {},
   "outputs": [
    {
     "name": "stdout",
     "output_type": "stream",
     "text": [
      "Not found\n"
     ]
    }
   ],
   "source": [
    "#way to check if element is exist or not in list\n",
    "list = [\"Life is All\", \"Power of Magic\", \"Apple\",\"A\", 1, 2, 3, 4, 5]\n",
    "a = \"A\"\n",
    "if a in list:\n",
    "    print(\"found\")\n",
    "else:\n",
    "    print(\"Not found\")"
   ]
  },
  {
   "cell_type": "code",
   "execution_count": null,
   "id": "6b9cf172-c478-48d1-aaa7-b98878f13924",
   "metadata": {},
   "outputs": [],
   "source": [
    "list = [\"Life is All\", \"Power of Magic\", \"Apple\", \"A\", 1, 2, 3, 4, 5]\n",
    "a = int(input(\"Enter a elemet; \"))\n",
    "if a in list:\n",
    "    print(\"found\",a)\n",
    "else:\n",
    "    print(\"not found\",a)"
   ]
  },
  {
   "cell_type": "code",
   "execution_count": 7,
   "id": "8b557511-0d6c-467b-bc59-58ad56c0a489",
   "metadata": {},
   "outputs": [
    {
     "name": "stdout",
     "output_type": "stream",
     "text": [
      "[5, 4, 3, 2, 1]\n"
     ]
    }
   ],
   "source": [
    "#Reversing a list \n",
    "a = [1, 2, 3, 4, 5]\n",
    "a.reverse()\n",
    "print(a)"
   ]
  },
  {
   "cell_type": "code",
   "execution_count": 9,
   "id": "6e965be4-d2b9-454c-a337-065182370f6d",
   "metadata": {},
   "outputs": [
    {
     "name": "stdout",
     "output_type": "stream",
     "text": [
      "[1, 2, 3, 4, 5]\n"
     ]
    }
   ],
   "source": [
    "#clonning or copying a list\n",
    "a = [1, 2, 3, 4, 5]\n",
    "a.copy()\n",
    "print(a)"
   ]
  },
  {
   "cell_type": "code",
   "execution_count": 17,
   "id": "ff0283db-00c6-4d41-9046-c4d39bbe03cf",
   "metadata": {},
   "outputs": [
    {
     "name": "stdout",
     "output_type": "stream",
     "text": [
      "2\n"
     ]
    }
   ],
   "source": [
    "#count occurence of element in a list \n",
    "a = [1, 2, 3, 4, 2, 2, 3]\n",
    "x = a.count(3)\n",
    "print(x)"
   ]
  },
  {
   "cell_type": "code",
   "execution_count": 33,
   "id": "82eb0973-1f3d-4a4d-9557-2e2f86ad6d43",
   "metadata": {},
   "outputs": [
    {
     "name": "stdout",
     "output_type": "stream",
     "text": [
      "sum 10\n",
      "2.5\n"
     ]
    }
   ],
   "source": [
    "#programm to find sum and average of list in python\n",
    "a = [1, 2, 3, 4]\n",
    "count = sum(a)\n",
    "avg = count/len(a)\n",
    "print(\"sum\", count)\n",
    "print(avg)"
   ]
  },
  {
   "cell_type": "code",
   "execution_count": 29,
   "id": "494ad224-f764-4575-bfe6-1f49cfb611bd",
   "metadata": {},
   "outputs": [
    {
     "name": "stdout",
     "output_type": "stream",
     "text": [
      "10\n"
     ]
    }
   ],
   "source": [
    "#sum of number digit in list\n",
    "a = [1, 2, 3, 4]\n",
    "x = sum(a)\n",
    "print(x)"
   ]
  },
  {
   "cell_type": "code",
   "execution_count": 41,
   "id": "7fda1f63-3004-4171-8504-8db3c848fe9b",
   "metadata": {},
   "outputs": [
    {
     "name": "stdout",
     "output_type": "stream",
     "text": [
      "600\n"
     ]
    }
   ],
   "source": [
    "#multiply all number in the list\n",
    "a = [5, 2, 3, 4, 5]\n",
    "b = 1\n",
    "for i in a:\n",
    "    b = b * i\n",
    "print(b)"
   ]
  },
  {
   "cell_type": "code",
   "execution_count": 49,
   "id": "6b6218c1-bdac-4411-bd49-d66699a89884",
   "metadata": {},
   "outputs": [
    {
     "name": "stdout",
     "output_type": "stream",
     "text": [
      "1\n"
     ]
    }
   ],
   "source": [
    "# find smallest number in a list \n",
    "a = [1, 2, 3, 4, 5]\n",
    "b = min(a)\n",
    "print(b)\n",
    "    \n",
    "    "
   ]
  },
  {
   "cell_type": "code",
   "execution_count": 51,
   "id": "c60a4845-6242-4a4e-8dbe-9b1bf5c4248c",
   "metadata": {},
   "outputs": [
    {
     "name": "stdout",
     "output_type": "stream",
     "text": [
      "7\n"
     ]
    }
   ],
   "source": [
    "# find largest number in a list\n",
    "a = [1, 2, 3, 4, 5, 6, 7]\n",
    "b = max(a)\n",
    "print(b)"
   ]
  },
  {
   "cell_type": "code",
   "execution_count": 57,
   "id": "7bc39e1c-f4e6-4ab0-94ba-1164140182a8",
   "metadata": {},
   "outputs": [
    {
     "name": "stdout",
     "output_type": "stream",
     "text": [
      "7\n"
     ]
    }
   ],
   "source": [
    "#find second largest number in list\n",
    "\n"
   ]
  },
  {
   "cell_type": "code",
   "execution_count": 3,
   "id": "e92482fb-8657-4a94-8fdd-098f57797683",
   "metadata": {},
   "outputs": [
    {
     "name": "stdout",
     "output_type": "stream",
     "text": [
      "[8, 6, 4, 6]\n"
     ]
    }
   ],
   "source": [
    "#find even number in list\n",
    "a = [5, 3, 9, 1, 8, 6, 4, 3, 5]\n",
    "even_number = [num for num in a if num % 2 == 0]\n",
    "print(even_number) \n"
   ]
  },
  {
   "cell_type": "code",
   "execution_count": 5,
   "id": "3231ae03-c61d-4768-8b63-69b5e72f35ec",
   "metadata": {},
   "outputs": [
    {
     "name": "stdout",
     "output_type": "stream",
     "text": [
      "[5, 3, 9, 1, 3, 5]\n"
     ]
    }
   ],
   "source": [
    "#find odd number in list\n",
    "a = [5, 3, 9, 1, 8, 6, 4, 3, 5]\n",
    "even_number = [num for num in a if num % 2 != 0]\n",
    "print(even_number) "
   ]
  },
  {
   "cell_type": "code",
   "execution_count": null,
   "id": "41d2e016-f285-4311-bd01-aee57be4490e",
   "metadata": {},
   "outputs": [],
   "source": []
  }
 ],
 "metadata": {
  "kernelspec": {
   "display_name": "Python 3 (ipykernel)",
   "language": "python",
   "name": "python3"
  },
  "language_info": {
   "codemirror_mode": {
    "name": "ipython",
    "version": 3
   },
   "file_extension": ".py",
   "mimetype": "text/x-python",
   "name": "python",
   "nbconvert_exporter": "python",
   "pygments_lexer": "ipython3",
   "version": "3.12.4"
  }
 },
 "nbformat": 4,
 "nbformat_minor": 5
}
