{
 "cells": [
  {
   "cell_type": "code",
   "execution_count": 11,
   "id": "55a0a59d-6d21-4b15-a09f-9e6e9b7e06e8",
   "metadata": {},
   "outputs": [
    {
     "name": "stdout",
     "output_type": "stream",
     "text": [
      "Size of  a: 48bytes\n"
     ]
    }
   ],
   "source": [
    "# Python programme to find size of tuple \n",
    "a = (\"Apple\", \"Cat\", \"Dog\",)\n",
    "print(\"Size of  a: \" + str(a.__sizeof__()) +\"bytes\")"
   ]
  },
  {
   "cell_type": "code",
   "execution_count": 19,
   "id": "98fc812e-72dd-41f0-ae0e-f6efbfc4dcd4",
   "metadata": {},
   "outputs": [],
   "source": [
    "#python maximum and minimum k element in tuple\n",
    " "
   ]
  },
  {
   "cell_type": "code",
   "execution_count": 19,
   "id": "cc354146-000f-402c-bc47-ae1a32b9f3a8",
   "metadata": {},
   "outputs": [
    {
     "name": "stdout",
     "output_type": "stream",
     "text": [
      "[(1, 1), (2, 8), (3, 27), (4, 64)]\n"
     ]
    }
   ],
   "source": [
    "#create a list of tuple from given list having number and its cube in each tuple \n",
    "list = [1, 2, 3, 4]\n",
    "mylist = [(val, val**3) for val in list]\n",
    "print(mylist)\n"
   ]
  },
  {
   "cell_type": "code",
   "execution_count": 17,
   "id": "e59e388a-ad1e-446f-9a61-b67c8721e427",
   "metadata": {},
   "outputs": [
    {
     "name": "stdout",
     "output_type": "stream",
     "text": [
      "First:[1, 5, 6, 8]\n",
      "after first:[1, 5, 6, 8, 6, 9]\n"
     ]
    }
   ],
   "source": [
    "#python adding list to tuple vice versa \n",
    "mylist = [1, 5, 6, 8]\n",
    "print(\"First:\" + str(mylist))\n",
    "#create  a tuple \n",
    "mytuple = (6, 9)\n",
    "mylist +=mytuple\n",
    "print(\"after first:\" +str(mylist))"
   ]
  },
  {
   "cell_type": "code",
   "execution_count": 31,
   "id": "246d7f72-2067-4bdc-b9d7-e97ead77953d",
   "metadata": {},
   "outputs": [
    {
     "name": "stdout",
     "output_type": "stream",
     "text": [
      "25\n"
     ]
    }
   ],
   "source": [
    "#sum of tuple element\n",
    "a = (1, 2, 3, 4,  5, 10)\n",
    "b = sum(a)\n",
    "print(b)"
   ]
  },
  {
   "cell_type": "code",
   "execution_count": 17,
   "id": "c843d137-fa1f-416c-b1ce-36b5fe65bdbf",
   "metadata": {},
   "outputs": [
    {
     "name": "stdout",
     "output_type": "stream",
     "text": [
      "tuple 1(6, 8, 10, 15)\n",
      "tuple2(2, 3, 4, 2)\n",
      "Modulo tuple element:(0, 2, 2, 1)\n"
     ]
    }
   ],
   "source": [
    "#Modulo of tuple element\n",
    "import operator\n",
    "a = (6, 8, 10, 15)\n",
    "b = (2, 3, 4, 2)\n",
    "print(\"tuple 1\" + str(a))\n",
    "print(\"tuple2\" + str(b))\n",
    "modtuple = tuple(map(operator.mod, a, b))\n",
    "print(\"Modulo tuple element:\" + str(modtuple))"
   ]
  },
  {
   "cell_type": "code",
   "execution_count": 11,
   "id": "5e3fafeb-a612-4e0d-ad9b-4f0cc8a3699c",
   "metadata": {},
   "outputs": [
    {
     "name": "stdout",
     "output_type": "stream",
     "text": [
      "[(22, 33, 14), (55, 66, 64), (15, 16, 17)]\n"
     ]
    }
   ],
   "source": [
    "#update each elemnt in tuple list\n",
    "a = [(12, 23, 4,), (45, 56, 54), (5, 6, 7)]\n",
    "list = [(12+ 10, 23+10, 4+10), (45+10, 56+10, 54+10), (5+10, 6+10, 7+10)]\n",
    "print(list)\n"
   ]
  },
  {
   "cell_type": "code",
   "execution_count": 13,
   "id": "1bb90876-8102-4ef8-a9a1-c5cef9805362",
   "metadata": {},
   "outputs": [
    {
     "name": "stdout",
     "output_type": "stream",
     "text": [
      "[8, 20, 30]\n"
     ]
    }
   ],
   "source": [
    "#Multiply adjacent element\n",
    "a = [2, 4, 5, 6]\n",
    "adjacent = [2*4, 4*5, 5*6]\n",
    "print(adjacent)"
   ]
  },
  {
   "cell_type": "code",
   "execution_count": null,
   "id": "6c6acc66-18b9-439d-8260-0971985ce1ae",
   "metadata": {},
   "outputs": [],
   "source": [
    "#join tuple if similar initial element\n"
   ]
  },
  {
   "cell_type": "code",
   "execution_count": 15,
   "id": "1bdfd5f3-2053-42b5-94ca-6e0ea6d0b4a9",
   "metadata": {},
   "outputs": [
    {
     "name": "stdout",
     "output_type": "stream",
     "text": [
      "[(1, 3), (1, 4), (2, 3), (2, 4)]\n"
     ]
    }
   ],
   "source": [
    "#all pair combination of 2 tuple \n",
    "a = (1, 2)\n",
    "b = (3, 4)\n",
    "pair = [(1,3),(1,4),(2,3),(2,4)]\n",
    "\n",
    "print(pair)"
   ]
  },
  {
   "cell_type": "code",
   "execution_count": 40,
   "id": "15cb8dc3-ac94-4eb5-b1ce-41d01958d6e1",
   "metadata": {},
   "outputs": [
    {
     "name": "stdout",
     "output_type": "stream",
     "text": [
      "[[(1, 3), (1, 4), (2, 3), (2, 4)]]\n",
      "[[(1, 3), (1, 4), (2, 3), (2, 4)], [(1, 3), (1, 4), (2, 3), (2, 4)]]\n",
      "[[(1, 3), (1, 4), (2, 3), (2, 4)], [(1, 3), (1, 4), (2, 3), (2, 4)], [(1, 3), (1, 4), (2, 3), (2, 4)]]\n",
      "[[(1, 3), (1, 4), (2, 3), (2, 4)], [(1, 3), (1, 4), (2, 3), (2, 4)], [(1, 3), (1, 4), (2, 3), (2, 4)], [(1, 3), (1, 4), (2, 3), (2, 4)]]\n"
     ]
    }
   ],
   "source": [
    "#Remove tuple of length k\n",
    "a = [(1, 2), (3, 4, 5), (6, 7), (8, 9, 10)]\n",
    "b = []\n",
    "for i in a:\n",
    "    if len (pair) !=3:\n",
    "        b.append(pair)\n",
    "    print(b) \n",
    "\n",
    "\n"
   ]
  },
  {
   "cell_type": "code",
   "execution_count": 46,
   "id": "ab7d19c1-087b-4d02-a1d0-30807ae34c9c",
   "metadata": {},
   "outputs": [
    {
     "name": "stdout",
     "output_type": "stream",
     "text": [
      "[(1, 2), (3, 4)]\n"
     ]
    }
   ],
   "source": [
    "#Remove tuple from the list having every element as none\n",
    "a = [(1, 2), (None, None), (3, 4), (None, None, None)]\n",
    "a = [g for g in a if g != (None, None) and g != (None, None, None)]\n",
    "print(a)\n"
   ]
  },
  {
   "cell_type": "code",
   "execution_count": 51,
   "id": "d9792b32-33bf-425a-a472-3d91d9ec3ae2",
   "metadata": {},
   "outputs": [
    {
     "name": "stdout",
     "output_type": "stream",
     "text": [
      "[(2, 1), (4, 2), (1, 3, 4)]\n"
     ]
    }
   ],
   "source": [
    "#sort list of tuple by second item\n",
    "a= [(1, 3, 4), (2, 1), (4, 2)]\n",
    "\n",
    "a.sort(key=lambda x: x[1])\n",
    "\n",
    "print(a)\n",
    "\n"
   ]
  },
  {
   "cell_type": "code",
   "execution_count": 53,
   "id": "e2b6d97f-9fea-4aa1-af78-09365a0d4ada",
   "metadata": {},
   "outputs": [
    {
     "name": "stdout",
     "output_type": "stream",
     "text": [
      "[(1, 23), (456, 7), (89, 12)]\n"
     ]
    }
   ],
   "source": [
    "#sort tuple by total digit\n",
    "a = [(1, 23), (456, 7), (89, 12)]\n",
    "\n",
    "# Sort the blocks by counting the total number of digits in each tuple\n",
    "a.sort(key=lambda x: sum(len(str(num)) for num in x))\n",
    "\n",
    "print(a)\n"
   ]
  },
  {
   "cell_type": "code",
   "execution_count": 75,
   "id": "238c56e6-a609-49b6-bcad-7aa364b80698",
   "metadata": {},
   "outputs": [
    {
     "name": "stdout",
     "output_type": "stream",
     "text": [
      "Counter({3: 3, 2: 2, 1: 1, 4: 1})\n"
     ]
    }
   ],
   "source": [
    "#Element in frequency in tuple\n",
    "from collections import Counter\n",
    "\n",
    "\n",
    "t = (1, 2, 2, 3, 3, 3, 4)\n",
    "# Using Counter to count frequencies\n",
    "frequency = Counter(t)\n",
    "\n",
    "print(frequency)\n"
   ]
  },
  {
   "cell_type": "code",
   "execution_count": 79,
   "id": "bd6e5045-54b2-4feb-8324-61a148a74c2a",
   "metadata": {},
   "outputs": [
    {
     "name": "stdout",
     "output_type": "stream",
     "text": [
      "(3, 4, 5, 6, 7)\n",
      "5\n"
     ]
    }
   ],
   "source": [
    "#filter range length tuple\n",
    "\n",
    "a = (1, 2, 3, 4, 5, 6, 7, 8, 9)\n",
    "\n",
    "b = tuple(x for x in a if 3 <= x <= 7)\n",
    "\n",
    "# Print the filtered tuple and its length\n",
    "print(b)\n",
    "print(len(b))\n",
    "\n"
   ]
  },
  {
   "cell_type": "code",
   "execution_count": 85,
   "id": "a2b4f3e4-b65a-4941-b269-04c2498886e2",
   "metadata": {},
   "outputs": [
    {
     "name": "stdout",
     "output_type": "stream",
     "text": [
      "Counter({3: 3, 2: 2, 1: 1, 4: 1})\n"
     ]
    }
   ],
   "source": [
    "#Assign Frequency to tuple \n",
    "from collections import Counter\n",
    "t = (1, 2, 2, 3, 3, 3, 4)\n",
    "f = Counter(t)\n",
    "print(f)"
   ]
  },
  {
   "cell_type": "code",
   "execution_count": null,
   "id": "c337550a-4bdc-4d17-a2cd-abb6501a8818",
   "metadata": {},
   "outputs": [],
   "source": []
  }
 ],
 "metadata": {
  "kernelspec": {
   "display_name": "Python 3 (ipykernel)",
   "language": "python",
   "name": "python3"
  },
  "language_info": {
   "codemirror_mode": {
    "name": "ipython",
    "version": 3
   },
   "file_extension": ".py",
   "mimetype": "text/x-python",
   "name": "python",
   "nbconvert_exporter": "python",
   "pygments_lexer": "ipython3",
   "version": "3.12.4"
  }
 },
 "nbformat": 4,
 "nbformat_minor": 5
}
