{
 "cells": [
  {
   "cell_type": "code",
   "execution_count": 14,
   "id": "58e75762-31a4-44c6-8f53-b12efdea141f",
   "metadata": {},
   "outputs": [
    {
     "name": "stdout",
     "output_type": "stream",
     "text": [
      "America\n"
     ]
    }
   ],
   "source": [
    "#dictionary pop\n",
    "\n",
    "dict = {\"name\":\"Dipanshu\", \"Rollno\": 35, \"country\":\"America\"}\n",
    "# dict.pop(\"name\")\n",
    "# print(dict)\n",
    "print(dict.pop(\"country\"))"
   ]
  },
  {
   "cell_type": "code",
   "execution_count": 26,
   "id": "6b0ede0d-806c-4082-8eea-af9bc6d0f524",
   "metadata": {},
   "outputs": [
    {
     "name": "stdout",
     "output_type": "stream",
     "text": [
      "<class 'dict'>\n"
     ]
    }
   ],
   "source": [
    "dict = {\"name\":\"Dipanshu\", \"Rollno\": 35, \"country\":\"America\"}\n",
    "del dict\n",
    "print(dict)"
   ]
  },
  {
   "cell_type": "code",
   "execution_count": null,
   "id": "66c8e6b7-83fc-46cb-94c1-1fc171c4432e",
   "metadata": {},
   "outputs": [],
   "source": [
    "dict = {\"name\":\"Dipanshu\", \"Rollno\": 35, \"country\":\"America\"}\n",
    "dict.pop()\n",
    "print(dict)  # it give error"
   ]
  },
  {
   "cell_type": "code",
   "execution_count": 18,
   "id": "36973774-96b1-4d1e-a669-e0da758e5f19",
   "metadata": {},
   "outputs": [
    {
     "name": "stdout",
     "output_type": "stream",
     "text": [
      "{}\n"
     ]
    }
   ],
   "source": [
    "dict = {\"name\":\"Dipanshu\", \"Rollno\": 35, \"country\":\"America\"}\n",
    "dict.clear()\n",
    "print(dict)"
   ]
  },
  {
   "cell_type": "code",
   "execution_count": 30,
   "id": "3b6cbf07-bbcd-47d5-9810-4a0239ec7460",
   "metadata": {},
   "outputs": [
    {
     "name": "stdout",
     "output_type": "stream",
     "text": [
      "{'Rollno': 35, 'country': 'America'}\n"
     ]
    }
   ],
   "source": [
    "dict = {\"name\":\"Dipanshu\", \"Rollno\": 35, \"country\":\"America\"}\n",
    "del dict[\"name\"]\n",
    "print(dict)"
   ]
  },
  {
   "cell_type": "code",
   "execution_count": 32,
   "id": "3dac670a-b302-48f3-b461-765e8eadff85",
   "metadata": {},
   "outputs": [
    {
     "name": "stdout",
     "output_type": "stream",
     "text": [
      "{'Rollno': 35, 'country': 'America'}\n"
     ]
    }
   ],
   "source": [
    "dict = {\"name\":\"Dipanshu\", \"Rollno\": 35, \"country\":\"America\", \"name\":\"dict\"}\n",
    "del dict[\"name\"]\n",
    "print(dict)"
   ]
  },
  {
   "cell_type": "code",
   "execution_count": 34,
   "id": "b4671eb4-a580-491c-a0d0-bcbace873af8",
   "metadata": {},
   "outputs": [
    {
     "name": "stdout",
     "output_type": "stream",
     "text": [
      "{'name': 'Dipanshu', 'Rollno': 35, 'country': 'America'}\n"
     ]
    }
   ],
   "source": [
    "dict = {\"name\":\"Dipanshu\", \"Rollno\": 35, \"country\":\"America\"}\n",
    "dict.copy()\n",
    "print(dict)"
   ]
  },
  {
   "cell_type": "code",
   "execution_count": 36,
   "id": "c75c27a5-77f9-4a54-9d4a-1ea67ddf2471",
   "metadata": {},
   "outputs": [
    {
     "name": "stdout",
     "output_type": "stream",
     "text": [
      "{'name': 'Dipanshu', 'Rollno': 35, 'country': 'America'}\n"
     ]
    }
   ],
   "source": [
    "dict = {\"name\":\"Dipanshu\", \"Rollno\": 35, \"country\":\"America\"}\n",
    "print(dict.copy())"
   ]
  },
  {
   "cell_type": "code",
   "execution_count": 48,
   "id": "1b222677-34bf-458b-8664-d07bb08256d5",
   "metadata": {},
   "outputs": [
    {
     "name": "stdout",
     "output_type": "stream",
     "text": [
      "dict_values(['Dipanshu', 35, 'America'])\n"
     ]
    }
   ],
   "source": [
    "dict = {\"name\":\"Dipanshu\", \"Rollno\": 35, \"country\":\"America\"}\n",
    "x = dict.values()\n",
    "print(x)"
   ]
  },
  {
   "cell_type": "code",
   "execution_count": 50,
   "id": "6859a728-3239-4f84-99ed-9d39e49c7582",
   "metadata": {},
   "outputs": [
    {
     "name": "stdout",
     "output_type": "stream",
     "text": [
      "dict_keys(['name', 'Rollno', 'country'])\n"
     ]
    }
   ],
   "source": [
    "dict = {\"name\":\"Dipanshu\", \"Rollno\": 35, \"country\":\"America\"}\n",
    "x = dict.keys()\n",
    "print(x)"
   ]
  },
  {
   "cell_type": "code",
   "execution_count": 68,
   "id": "3fe9485c-9997-4ebd-80ad-41e174ef4bee",
   "metadata": {},
   "outputs": [
    {
     "name": "stdout",
     "output_type": "stream",
     "text": [
      "{'child1': {'name': 'dipanshu', 'rollno': 34, 'subject': 'data Sciece'}, 'child2': {'name': 'dip', 'rollno': 35, 'subject': 56}}\n"
     ]
    }
   ],
   "source": [
    "#nested dictionary\n",
    "\n",
    "dict={\n",
    "    \"child1\":  {\n",
    "        \"name\":\"dipanshu\",\n",
    "        \"rollno\":34,\n",
    "        \"subject\":\"data Sciece\"\n",
    "     },\n",
    "    \"child2\": {\n",
    "        \"name\":\"dip\",\n",
    "        \"rollno\":35, \n",
    "        \"subject\":56\n",
    "    \n",
    "    }\n",
    "}\n",
    "print(dict)\n"
   ]
  },
  {
   "cell_type": "code",
   "execution_count": 62,
   "id": "27fd9c02-410f-4221-bd3d-4c9ce8d88d98",
   "metadata": {},
   "outputs": [
    {
     "name": "stdout",
     "output_type": "stream",
     "text": [
      "{'child1': {'name': 'Emil', 'year': 2004}, 'child2': {'name': 'Tobias', 'year': 2007}, 'child3': {'name': 'Linus', 'year': 2011}}\n"
     ]
    }
   ],
   "source": [
    "myfamily = {\n",
    "  \"child1\" : {\n",
    "    \"name\" : \"Emil\",\n",
    "    \"year\" : 2004\n",
    "  },\n",
    "  \"child2\" : {\n",
    "    \"name\" : \"Tobias\",\n",
    "    \"year\" : 2007\n",
    "  },\n",
    "  \"child3\" : {\n",
    "    \"name\" : \"Linus\",\n",
    "    \"year\" : 2011\n",
    "  }\n",
    "}\n",
    "print(myfamily)"
   ]
  },
  {
   "cell_type": "code",
   "execution_count": null,
   "id": "872e7c85-4e56-465e-867a-3bb360079947",
   "metadata": {},
   "outputs": [],
   "source": []
  },
  {
   "cell_type": "code",
   "execution_count": null,
   "id": "1a3f5b78-83fd-41de-b6b7-238ddff498a7",
   "metadata": {},
   "outputs": [],
   "source": []
  }
 ],
 "metadata": {
  "kernelspec": {
   "display_name": "Python 3 (ipykernel)",
   "language": "python",
   "name": "python3"
  },
  "language_info": {
   "codemirror_mode": {
    "name": "ipython",
    "version": 3
   },
   "file_extension": ".py",
   "mimetype": "text/x-python",
   "name": "python",
   "nbconvert_exporter": "python",
   "pygments_lexer": "ipython3",
   "version": "3.12.4"
  }
 },
 "nbformat": 4,
 "nbformat_minor": 5
}
