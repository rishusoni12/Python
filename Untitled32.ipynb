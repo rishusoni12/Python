{
 "cells": [
  {
   "cell_type": "code",
   "execution_count": 31,
   "id": "ecc009f6-0ada-4793-bb58-2762203d1597",
   "metadata": {},
   "outputs": [
    {
     "name": "stdin",
     "output_type": "stream",
     "text": [
      "Enter a num 5\n"
     ]
    },
    {
     "name": "stdout",
     "output_type": "stream",
     "text": [
      "25\n"
     ]
    }
   ],
   "source": [
    "#square\n",
    "n = int(input(\"Enter a num\"))\n",
    "for i in range(1,n):\n",
    "    print(n**2)\n",
    "    break\n",
    "\n"
   ]
  },
  {
   "cell_type": "code",
   "execution_count": 35,
   "id": "b6305fde-9023-4b1f-a8e6-103a5b8ed240",
   "metadata": {},
   "outputs": [
    {
     "name": "stdin",
     "output_type": "stream",
     "text": [
      "ENte a number 5\n"
     ]
    },
    {
     "name": "stdout",
     "output_type": "stream",
     "text": [
      "Cube 125\n"
     ]
    }
   ],
   "source": [
    "n =  int(input(\"Enter a number\"))\n",
    "for i in range(1, n):\n",
    "    print(\"Cube\", n**3)\n",
    "    break"
   ]
  },
  {
   "cell_type": "code",
   "execution_count": 41,
   "id": "746ce520-ff5e-4fa2-9c7d-a4a413f5ba56",
   "metadata": {},
   "outputs": [
    {
     "name": "stdout",
     "output_type": "stream",
     "text": [
      "25\n",
      "25\n"
     ]
    }
   ],
   "source": [
    "#while \n",
    "n = 5\n",
    "i = 1\n",
    "while i<=5:\n",
    "    print(n**2)\n",
    "    i+=1\n",
    "    break\n"
   ]
  },
  {
   "cell_type": "code",
   "execution_count": 3,
   "id": "7109ecae-5c05-4842-a34f-1ccd021ae16d",
   "metadata": {},
   "outputs": [
    {
     "name": "stdout",
     "output_type": "stream",
     "text": [
      "Odd number\n"
     ]
    }
   ],
   "source": [
    "a = 5\n",
    "for i in range(1):\n",
    "    if a%2==0:\n",
    "        print(\"Even number\")\n",
    "    else:\n",
    "        print(\"Odd number\")"
   ]
  },
  {
   "cell_type": "code",
   "execution_count": 17,
   "id": "b86b7c42-dfed-4579-804b-160ac8824fa1",
   "metadata": {},
   "outputs": [
    {
     "name": "stdout",
     "output_type": "stream",
     "text": [
      "Even number 6\n"
     ]
    }
   ],
   "source": [
    "n = 6\n",
    "i = 1\n",
    "while i>0:\n",
    "    if n%2==0:\n",
    "        print(\"Even number\",n)\n",
    "    else:\n",
    "        print(\"Odd number\",n)\n",
    "    i+=1\n",
    "    break\n",
    "    "
   ]
  },
  {
   "cell_type": "code",
   "execution_count": 29,
   "id": "37747648-b683-4601-bc80-f0a1320b8a2f",
   "metadata": {},
   "outputs": [
    {
     "name": "stdout",
     "output_type": "stream",
     "text": [
      "factorial 6\n"
     ]
    }
   ],
   "source": [
    "#factorial\n",
    "num = 6\n",
    "fact = 1b 8 \n",
    "for i in range(1,num-1):\n",
    "    fact=fact*i\n",
    "    print(\"factorial\", num)\n",
    "    break\n",
    "    "
   ]
  },
  {
   "cell_type": "code",
   "execution_count": null,
   "id": "183b53be-5231-4658-94fd-ecc95982b3c6",
   "metadata": {},
   "outputs": [],
   "source": []
  }
 ],
 "metadata": {
  "kernelspec": {
   "display_name": "Python 3 (ipykernel)",
   "language": "python",
   "name": "python3"
  },
  "language_info": {
   "codemirror_mode": {
    "name": "ipython",
    "version": 3
   },
   "file_extension": ".py",
   "mimetype": "text/x-python",
   "name": "python",
   "nbconvert_exporter": "python",
   "pygments_lexer": "ipython3",
   "version": "3.12.4"
  }
 },
 "nbformat": 4,
 "nbformat_minor": 5
}
