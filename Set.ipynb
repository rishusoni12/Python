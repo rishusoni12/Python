{
 "cells": [
  {
   "cell_type": "code",
   "execution_count": null,
   "id": "8de0d65d-0805-408f-b57b-8138c9e79fd4",
   "metadata": {},
   "outputs": [],
   "source": [
    "#set \n",
    "# it is mutable only allowed add remove   \n",
    "# it is unordered \n",
    "# it is not allowed dublicate values \n",
    "# it is collection of unique element \n",
    "#it is not allowed indexing we can not access element using indexing \n",
    "# it is not add string\n"
   ]
  },
  {
   "cell_type": "code",
   "execution_count": 11,
   "id": "363d4119-2cde-4c8c-ae35-444e4ba10fdf",
   "metadata": {},
   "outputs": [
    {
     "name": "stdout",
     "output_type": "stream",
     "text": [
      "{1, 2, 3, 4, 5, 6, 7, 8, 'AdI'}\n"
     ]
    }
   ],
   "source": [
    "set = {1, 2, 3, 4, 5, 6, 8, 7,\"AdI\", True}\n",
    "print(set)"
   ]
  },
  {
   "cell_type": "code",
   "execution_count": 9,
   "id": "52724e81-fcce-4e1f-9262-4ba9981b076b",
   "metadata": {},
   "outputs": [
    {
     "name": "stdout",
     "output_type": "stream",
     "text": [
      "(1, 2, 3, 4, 5, 6, 8, 7, 'AdI', True)\n"
     ]
    }
   ],
   "source": [
    "set = (1, 2, 3, 4, 5, 6, 8, 7,\"AdI\", True)\n",
    "print(set)"
   ]
  },
  {
   "cell_type": "code",
   "execution_count": 21,
   "id": "8aad90e8-6d60-4c87-beae-8034b7a4ceb4",
   "metadata": {},
   "outputs": [
    {
     "name": "stdout",
     "output_type": "stream",
     "text": [
      "{1, 2, 3, 4, 5, 6, 7, 8, 9, 10, 12}\n"
     ]
    }
   ],
   "source": [
    "#operate set\n",
    "set = {1, 2, 3, 4, 5, 6, 7, 8, 10, 9}\n",
    "set.add(12)\n",
    "print(set)"
   ]
  },
  {
   "cell_type": "code",
   "execution_count": 31,
   "id": "e7aaf568-29d5-4de1-9e6e-e52fd6b318a7",
   "metadata": {},
   "outputs": [
    {
     "name": "stdout",
     "output_type": "stream",
     "text": [
      "{1, 2, 3, 4, 5, 6, 7, 8, 9, 10, 'B', 'D', 'E', 'C'}\n"
     ]
    }
   ],
   "source": [
    "#remove me agar set me value nahi voh remove kar rahe hai to error aayega \n",
    "set = {1, 2, 3, 4, 5, 6, 7, 8, 10, 9, \"A\", \"B\", \"C\", \"D\", \"E\"}\n",
    "set.remove(\"A\")\n",
    "print(set)"
   ]
  },
  {
   "cell_type": "code",
   "execution_count": 33,
   "id": "fd8dff1e-582d-493f-bcdb-513a0ff86a62",
   "metadata": {},
   "outputs": [
    {
     "name": "stdout",
     "output_type": "stream",
     "text": [
      "{1, 3, 4, 5, 6, 7, 8, 9, 10, 'B', 'D', 'E', 'C', 'A'}\n"
     ]
    }
   ],
   "source": [
    "set = {1, 2, 3, 4, 5, 6, 7, 8, 10, 9, \"A\", \"B\", \"C\", \"D\", \"E\"}\n",
    "set.remove(2) \n",
    "print(set)"
   ]
  },
  {
   "cell_type": "code",
   "execution_count": 35,
   "id": "aa124184-b345-49f1-9585-62687f05592f",
   "metadata": {},
   "outputs": [
    {
     "name": "stdout",
     "output_type": "stream",
     "text": [
      "{1, 2, 3, 4, 5, 6, 7, 8, 9, 10, 'B', 'D', 'E', 'C', 'A'}\n"
     ]
    }
   ],
   "source": [
    "#discard  set me element nahi hai agar aap remove kar rahe hai woh element nahi toh error nahi aayega \n",
    "set = {1, 2, 3, 4, 5, 6, 7, 8, 10, 9, \"A\", \"B\", \"C\", \"D\", \"E\"}\n",
    "set.discard(12)\n",
    "print(set)"
   ]
  },
  {
   "cell_type": "code",
   "execution_count": 37,
   "id": "de68cf55-a309-4b94-8bed-eeffc73bf9bc",
   "metadata": {},
   "outputs": [
    {
     "name": "stdout",
     "output_type": "stream",
     "text": [
      "15\n"
     ]
    }
   ],
   "source": [
    "set = {1, 2, 3, 4, 5, 6, 7, 8, 10, 9, \"A\", \"B\", \"C\", \"D\", \"E\"}\n",
    "print(len(set))"
   ]
  },
  {
   "cell_type": "code",
   "execution_count": 75,
   "id": "8ccee665-a810-4ba9-82f3-bcaaf07477dd",
   "metadata": {},
   "outputs": [
    {
     "name": "stdout",
     "output_type": "stream",
     "text": [
      "set()\n"
     ]
    }
   ],
   "source": [
    "#clear\n",
    "set = {1, 2, 3, 4, 5, 6, 7, 8, 10, 9, \"A\", \"B\", \"C\", \"D\", \"E\"}\n",
    "set.clear()\n",
    "print(set)"
   ]
  },
  {
   "cell_type": "code",
   "execution_count": 77,
   "id": "83bbc7a7-2c25-4391-8b3e-88e856819b10",
   "metadata": {},
   "outputs": [
    {
     "name": "stdout",
     "output_type": "stream",
     "text": [
      "{1, 2, 3, 4, 5, 6, 7, 8, 9, 10, 'B', 'D', 'E', 'C', 'A'}\n"
     ]
    }
   ],
   "source": [
    "#copy\n",
    "set = {1, 2, 3, 4, 5, 6, 7, 8, 10, 9, \"A\", \"B\", \"C\", \"D\", \"E\"}\n",
    "set.copy()\n",
    "print(set)"
   ]
  },
  {
   "cell_type": "code",
   "execution_count": 101,
   "id": "264a2dd1-8e77-4cb3-a802-3748aeeaf20a",
   "metadata": {},
   "outputs": [
    {
     "name": "stdout",
     "output_type": "stream",
     "text": [
      "False\n"
     ]
    }
   ],
   "source": [
    "#isdisjoint(): Returns True if two sets have no elements in common\n",
    "# set1 = {1, 2, 3}\n",
    "# set2 = {4, 5, 6, 7, 8}\n",
    "# print(set1.isdisjoint(set2))  # Output: True\n",
    "\n",
    "#commoon element hai \n",
    "set1 = {1, 2, 3}\n",
    "set2 = {2, 4, 5}\n",
    "print(set1.isdisjoint(set2))\n",
    "\n",
    "\n"
   ]
  },
  {
   "cell_type": "code",
   "execution_count": 107,
   "id": "a933fbd7-caa4-41e1-bf1b-43577698f94c",
   "metadata": {},
   "outputs": [
    {
     "name": "stdout",
     "output_type": "stream",
     "text": [
      "False\n"
     ]
    }
   ],
   "source": [
    "#issubset(): Returns True if all elements of the first set are in the second set.\n",
    "# set1 = {1, 2, 3}\n",
    "# set2 = {1, 2, 3, 4 ,5}\n",
    "# print(set1.issubset(set2))\n",
    "\n",
    "#set1 ke saare element set2 me nahi hai \n",
    "set1 = {1, 2, 3}\n",
    "set2 = {1, 2, 4 ,5}\n",
    "print(set1.issubset(set2))"
   ]
  },
  {
   "cell_type": "code",
   "execution_count": 115,
   "id": "ba9e279a-d226-42e9-b75e-5b99be75cc01",
   "metadata": {},
   "outputs": [
    {
     "name": "stdout",
     "output_type": "stream",
     "text": [
      "True\n",
      "False\n"
     ]
    }
   ],
   "source": [
    "#issuperset(): Returns True if all elements of the second set are in the first set.\n",
    "set1 = {1, 2, 3, 4, 5, 6}\n",
    "set2 = {1, 2, 3, 4 ,5}\n",
    "print(set1.issuperset(set2))\n",
    "\n",
    "# set2 ke saare element set1 me hone chahiye \n",
    "set1 = {1, 2, 3}\n",
    "set2 = {1, 2, 4 ,5}\n",
    "print(set1.issuperset(set2))"
   ]
  },
  {
   "cell_type": "code",
   "execution_count": 121,
   "id": "2c038245-de26-4045-84e1-40ab61288386",
   "metadata": {},
   "outputs": [
    {
     "ename": "TypeError",
     "evalue": "'set' object is not callable",
     "output_type": "error",
     "traceback": [
      "\u001b[1;31m---------------------------------------------------------------------------\u001b[0m",
      "\u001b[1;31mTypeError\u001b[0m                                 Traceback (most recent call last)",
      "Cell \u001b[1;32mIn[121], line 6\u001b[0m\n\u001b[0;32m      4\u001b[0m list1 \u001b[38;5;241m=\u001b[39m [\u001b[38;5;241m3\u001b[39m, \u001b[38;5;241m4\u001b[39m, \u001b[38;5;241m5\u001b[39m, \u001b[38;5;241m7\u001b[39m, \u001b[38;5;241m8\u001b[39m, \u001b[38;5;241m9\u001b[39m]\n\u001b[0;32m      5\u001b[0m list2 \u001b[38;5;241m=\u001b[39m [\u001b[38;5;241m1\u001b[39m, \u001b[38;5;241m2\u001b[39m, \u001b[38;5;241m3\u001b[39m, \u001b[38;5;241m4\u001b[39m, \u001b[38;5;241m5\u001b[39m, \u001b[38;5;241m6\u001b[39m]\n\u001b[1;32m----> 6\u001b[0m common_element \u001b[38;5;241m=\u001b[39m \u001b[38;5;28mset\u001b[39m(list1) \u001b[38;5;241m&\u001b[39m \u001b[38;5;28mset\u001b[39m(list2)\n\u001b[0;32m      7\u001b[0m \u001b[38;5;28mprint\u001b[39m(common_element)\n",
      "\u001b[1;31mTypeError\u001b[0m: 'set' object is not callable"
     ]
    }
   ],
   "source": [
    "# Finding Common Elements in Two Lists:\n",
    "# You can convert lists to sets and use the intersection operation to find common elements.\n",
    "\n",
    "list1 = [3, 4, 5, 7, 8, 9]\n",
    "list2 = [1, 2, 3, 4, 5, 6]\n",
    "common_element = set(list1) & set(list2)\n",
    "print(common_element)"
   ]
  },
  {
   "cell_type": "code",
   "execution_count": 125,
   "id": "f2f88cdd-3581-4851-96c1-dba1b8c67db9",
   "metadata": {},
   "outputs": [
    {
     "name": "stdout",
     "output_type": "stream",
     "text": [
      "Access denied\n"
     ]
    }
   ],
   "source": [
    "allowed_ids = {1001, 1002, 1003}\n",
    "user_id = 1004  #change it\n",
    "if user_id in allowed_ids:\n",
    "    print(\"Access granted\")\n",
    "else:\n",
    "    print(\"Access denied\")\n"
   ]
  },
  {
   "cell_type": "markdown",
   "id": "006128fe-e341-4707-98a6-83e338fc563d",
   "metadata": {},
   "source": [
    "#check if element is exist in set \n",
    "set = {1, 2, 3 ,\"Apple\"}\n",
    "print(2 in set)\n",
    "print(1 in set)\n",
    "print(4 in set)\n",
    "print(\"Apple\" in set)"
   ]
  },
  {
   "cell_type": "code",
   "execution_count": 57,
   "id": "acedb273-8c74-468f-8546-d886791980a0",
   "metadata": {},
   "outputs": [
    {
     "data": {
      "text/plain": [
       "{1, 2, 3, 4, 5, 6, 7, 8, 9}"
      ]
     },
     "execution_count": 57,
     "metadata": {},
     "output_type": "execute_result"
    }
   ],
   "source": [
    "#mathematical set operator \n",
    "#union sign |   #add \n",
    "set1 = {1, 2,  3, 4, 5}\n",
    "set2 = {6, 7, 8, 9}\n",
    "#new = set1 | set2\n",
    "set1.union(set2)\n",
    "#print(new)\n"
   ]
  },
  {
   "cell_type": "code",
   "execution_count": 61,
   "id": "96f6428b-8398-4341-b201-40c0f01020e8",
   "metadata": {},
   "outputs": [
    {
     "name": "stdout",
     "output_type": "stream",
     "text": [
      "{1, 2, 3}\n"
     ]
    }
   ],
   "source": [
    "#intersection &  mean common elemnet\n",
    "set1 = {1, 2,  3, 4, 5}\n",
    "set2 = {6, 7, 8, 9, 10, 1, 2, 3}\n",
    "#new  = set1 & set2\n",
    "print(new)\n"
   ]
  },
  {
   "cell_type": "code",
   "execution_count": 63,
   "id": "7df7718a-88db-47d2-ac0f-26937c18d3d1",
   "metadata": {},
   "outputs": [
    {
     "data": {
      "text/plain": [
       "{1, 2, 3}"
      ]
     },
     "execution_count": 63,
     "metadata": {},
     "output_type": "execute_result"
    }
   ],
   "source": [
    "set1 = {1, 2,  3, 4, 5}\n",
    "set2 = {6, 7, 8, 9, 10, 1, 2, 3}\n",
    "set1.intersection(set2)"
   ]
  },
  {
   "cell_type": "code",
   "execution_count": 71,
   "id": "f18fa2a1-32b9-40b7-a558-718fe333e47f",
   "metadata": {},
   "outputs": [
    {
     "name": "stdout",
     "output_type": "stream",
     "text": [
      "{7}\n"
     ]
    }
   ],
   "source": [
    "#difference sign -   # isme set1 ka voh element aayega jo set2 match nahi karta hai \n",
    "set1 = {1, 2, 3, 4, 5, 6, 7}  \n",
    "set2 = {1, 2, 3, 4, 5, 6}\n",
    "new = set1-set2\n",
    "print(new)"
   ]
  },
  {
   "cell_type": "code",
   "execution_count": 73,
   "id": "48b6d6e6-3073-4fcf-a54c-8b923852aefd",
   "metadata": {},
   "outputs": [
    {
     "data": {
      "text/plain": [
       "{7}"
      ]
     },
     "execution_count": 73,
     "metadata": {},
     "output_type": "execute_result"
    }
   ],
   "source": [
    "set1 = {1, 2, 3, 4, 5, 6, 7}\n",
    "set2 = {1, 2, 3, 4, 5, 6}\n",
    "set1.difference(set2)\n"
   ]
  },
  {
   "cell_type": "code",
   "execution_count": 135,
   "id": "09baf4e6-4912-421e-a8dd-9e3b8aa108fc",
   "metadata": {},
   "outputs": [
    {
     "name": "stdout",
     "output_type": "stream",
     "text": [
      "{'Russia': 'Moscow', 'Italy': 'Rom', 'China': 'bejing', 'USA': 'Washington D C'}\n",
      "<class 'dict'>\n",
      "4\n"
     ]
    }
   ],
   "source": [
    "#Dictionary\n",
    "# it is mutable \n",
    "# it is collection of item like list snd tuple and in dictionary key value pair \n",
    "dict = {\n",
    "    \"Russia\":\"Moscow\",\n",
    "    \"Italy\": \"Rom\",\n",
    "    \"China\": \"bejing\",\n",
    "    \"USA\": \"Washington D C\"\n",
    "}\n",
    "\n",
    "print(dict)\n",
    "print(type(dict))\n",
    "print(len(dict))"
   ]
  },
  {
   "cell_type": "code",
   "execution_count": 168,
   "id": "c3e3fa23-b529-4ebe-addd-eb03322ee2a8",
   "metadata": {},
   "outputs": [
    {
     "name": "stdout",
     "output_type": "stream",
     "text": [
      "Name:  Moscow\n",
      "Salary:  Moscow\n"
     ]
    }
   ],
   "source": [
    "# Access element in dicitonary are two method get() and key \n",
    "# We can not access element in dictinary by indexing\n",
    "dict = {\n",
    "    \"Russia\":\"Moscow\",\n",
    "    \"Italy\": \"Rom\",\n",
    "    \"China\": \"bejing\",\n",
    "    \"USA\": \"Washington D C\"\n",
    "}\n",
    "#print(dict[\"Russia\"])\n",
    "#print(dict[\"Italy\"])\n",
    "\n",
    "# new = dict[\"Russia\"]\n",
    "# print(new)\n",
    "\n",
    "#get() it is return value of specific key in the dictionary\n",
    "dict = {\n",
    "    \"Russia\":\"Moscow\",\n",
    "    \"Italy\": \"Rom\",\n",
    "    \"China\": \"bejing\",\n",
    "    \"USA\": \"Washington D C\"\n",
    "}\n",
    "\n",
    "# new = dict.get(\"China\")\n",
    "# print(new)\n",
    "\n",
    "print(\"Name: \",dict.get(\"Russia\"))\n",
    "print(\"Salary: \", dict.get(\"Russia\", 000.11))\n"
   ]
  },
  {
   "cell_type": "code",
   "execution_count": 172,
   "id": "c2bf076c-ca09-4a73-af3a-7edfa9d74f6c",
   "metadata": {},
   "outputs": [
    {
     "name": "stdout",
     "output_type": "stream",
     "text": [
      "{'Russia': 'Moscow', 'Italy': 'Rom', 'China': 'bejing', 'USA': 'Washington D C', 'French': 'Paris'}\n"
     ]
    }
   ],
   "source": [
    "#Add Element\n",
    "dict = {\n",
    "    \"Russia\":\"Moscow\",\n",
    "    \"Italy\": \"Rom\",\n",
    "    \"China\": \"bejing\",\n",
    "    \"USA\": \"Washington D C\"\n",
    "}\n",
    "\n",
    "dict[\"French\"] = \"Paris\"\n",
    "print(dict)"
   ]
  },
  {
   "cell_type": "code",
   "execution_count": 210,
   "id": "d10b1b64-5aa7-4051-a03e-90e778016805",
   "metadata": {},
   "outputs": [
    {
     "name": "stdout",
     "output_type": "stream",
     "text": [
      "Russia Moscow\n",
      "Italy Rom\n",
      "China bejing\n",
      "USA Washington D C\n"
     ]
    }
   ],
   "source": [
    "#check element exist or not\n",
    "#it is check key \n",
    "dict = {\n",
    "    \"Russia\":\"Moscow\",\n",
    "    \"Italy\": \"Rom\",\n",
    "    \"China\": \"bejing\",\n",
    "    \"USA\": \"Washington D C\"\n",
    "}\n",
    "\n",
    "# print(\"Russia\" in dict)\n",
    "# print(\"Japan\" in dict)\n",
    "# print(\"China\" not in dict)\n",
    "\n",
    "# if \"China\" in dict:\n",
    "#     print(\"It is present in dict\")\n",
    "# else:\n",
    "#     print(\"it is not present dict\")\n",
    "\n",
    "\n",
    "# for i in dict:\n",
    "#     if \"China\" in dict:\n",
    "#         print (\"it is present\")\n",
    "#     else:\n",
    "#         print(\"it  is not present in dict\")\n",
    "\n",
    "\n",
    "# for i in dict:\n",
    "#     print(f\"{i} {dict[i]}\")\n",
    "\n"
   ]
  },
  {
   "cell_type": "code",
   "execution_count": 218,
   "id": "1abe12da-788b-49d1-a283-66ae0a5c14cc",
   "metadata": {},
   "outputs": [
    {
     "name": "stdout",
     "output_type": "stream",
     "text": [
      "{'Russia': 'Sant', 'Italy': 'Rom', 'China': 'bejing', 'USA': 'Washington D C'}\n"
     ]
    }
   ],
   "source": [
    "#change the value\n",
    "dict = {\n",
    "    \"Russia\":\"Moscow\",\n",
    "    \"Italy\": \"Rom\",\n",
    "    \"China\": \"bejing\",\n",
    "    \"USA\": \"Washington D C\"\n",
    "}\n",
    "# dict[\"Russia\"]=\"SantPeterberg\"\n",
    "# print(dict)\n",
    "\n",
    "#update\n",
    "dict.update({\"Russia\":\"Sant\"})\n",
    "print(dict)"
   ]
  },
  {
   "cell_type": "code",
   "execution_count": 236,
   "id": "74c31c15-6e32-4bab-bcda-b484dd084fc0",
   "metadata": {},
   "outputs": [
    {
     "name": "stdout",
     "output_type": "stream",
     "text": [
      "{}\n"
     ]
    }
   ],
   "source": [
    "# we can use remove pop del\n",
    "dict = {\n",
    "    \"Russia\":\"Moscow\",\n",
    "    \"Italy\": \"Rom\",\n",
    "    \"China\": \"bejing\",\n",
    "    \"USA\": \"Washington D C\"\n",
    "}\n",
    "\n",
    "# del dict\n",
    "# print(dict)\n",
    "\n",
    "\n",
    "# del dict[\"China\"]\n",
    "# print(dict)\n",
    "\n",
    "# dict.pop(\"China\")\n",
    "# print(dict)\n",
    "\n",
    "dict.clear()\n",
    "print(dict)\n",
    "\n",
    "\n",
    "\n"
   ]
  },
  {
   "cell_type": "code",
   "execution_count": null,
   "id": "de9a6295-ae47-4756-aa01-66aec10b93c8",
   "metadata": {},
   "outputs": [],
   "source": []
  }
 ],
 "metadata": {
  "kernelspec": {
   "display_name": "Python 3 (ipykernel)",
   "language": "python",
   "name": "python3"
  },
  "language_info": {
   "codemirror_mode": {
    "name": "ipython",
    "version": 3
   },
   "file_extension": ".py",
   "mimetype": "text/x-python",
   "name": "python",
   "nbconvert_exporter": "python",
   "pygments_lexer": "ipython3",
   "version": "3.12.4"
  }
 },
 "nbformat": 4,
 "nbformat_minor": 5
}
