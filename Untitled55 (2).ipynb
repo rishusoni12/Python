{
 "cells": [
  {
   "cell_type": "code",
   "execution_count": null,
   "id": "550b8335-8d02-4a75-a65c-25f96503f70e",
   "metadata": {},
   "outputs": [],
   "source": [
    "#File handling\n",
    "\n"
   ]
  },
  {
   "cell_type": "code",
   "execution_count": 3,
   "id": "2dfd6a33-f9c9-408f-91a4-a95fff986635",
   "metadata": {},
   "outputs": [
    {
     "name": "stdout",
     "output_type": "stream",
     "text": [
      "Data Structures are a way of organizing data so that it can be accessed more efficiently depending upon the situation. Data Structures are fundamentals of any programming language around which a program is built. Python helps to learn the fundamental of these data structures in a simpler way as compared to other programming languages\n"
     ]
    }
   ],
   "source": [
    "F = open(\"New Text.txt\", \"r\")\n",
    "print(F.read())"
   ]
  },
  {
   "cell_type": "code",
   "execution_count": 13,
   "id": "0cf50083-7a6a-4723-8475-dd8c254ac4a2",
   "metadata": {},
   "outputs": [
    {
     "name": "stdout",
     "output_type": "stream",
     "text": [
      "Data Structures are a way of organizing data so th\n"
     ]
    }
   ],
   "source": [
    "#read give in number me kitna karna hai \n",
    "F = open(\"New Text.txt\", \"r\")\n",
    "print(F.read(50))"
   ]
  },
  {
   "cell_type": "code",
   "execution_count": 38,
   "id": "e8833e3f-b48d-4b1e-b9cd-c233c5dfabda",
   "metadata": {},
   "outputs": [
    {
     "name": "stdout",
     "output_type": "stream",
     "text": [
      "Data Structures are a way of organizing data so that it can be accessed more efficiently depending upon the situation.\n",
      "Data Structures are fundamentals of any programming language around which a program is built. \n",
      "Python helps to learn the fundamental of these data structures in a simpler way as compared to other programming languages\n"
     ]
    }
   ],
   "source": [
    "\n",
    "F = open('C:\\\\Users\\\\soniv\\\\OneDrive\\\\Desktop\\\\New Text.txt', \"r\")\n",
    "print(F.read())"
   ]
  },
  {
   "cell_type": "code",
   "execution_count": 9,
   "id": "cf9ebb02-8a58-4389-9ad0-ce89552fe95b",
   "metadata": {},
   "outputs": [
    {
     "name": "stdout",
     "output_type": "stream",
     "text": [
      "Data Structures are a way of organizing data so that it can be accessed more efficiently depending upon the situation. Data Structures are fundamentals of any programming language around which a program is built. Python helps to learn the fundamental of these data structures in a simpler way as compared to other programming languages\n"
     ]
    }
   ],
   "source": [
    "F = open(\"New Text.txt\", \"r\")\n",
    "print(F.readline())\n"
   ]
  },
  {
   "cell_type": "code",
   "execution_count": 69,
   "id": "20d3988c-bb7d-42c8-839d-dfbbdce2659e",
   "metadata": {},
   "outputs": [
    {
     "name": "stdout",
     "output_type": "stream",
     "text": [
      "Data Structures are a way of organizing data so that it can be accessed more efficiently depending upon the situation.\n",
      "\n",
      "Data Structures are fundamentals of any programming language around which a program is built. \n",
      "\n",
      "Python helps to learn the fundamental of these data structures in a simpler way as compared to other programming languagesThe data is Working CompletelyThe data is Working CompletelyThe data is Working CompletelyThe data is Working Completely The data is Working Completely\n",
      "\n",
      "The data is Working Completely\n"
     ]
    }
   ],
   "source": [
    "F = open(\"New Text.txt\", \"r\")\n",
    "for i in F:\n",
    "    print(i)\n",
    "   \n",
    "    "
   ]
  },
  {
   "cell_type": "code",
   "execution_count": 49,
   "id": "bf338f56-7b94-46f9-83ef-c3429ae7f6d8",
   "metadata": {},
   "outputs": [
    {
     "name": "stdout",
     "output_type": "stream",
     "text": [
      "Data Structures are a way of organizing data so that it can be accessed more efficiently depending upon the situation.\n",
      "\n"
     ]
    }
   ],
   "source": [
    "# one line ke baad close ho jayaga read karna \n",
    "F = open(\"New Text.txt\", \"r\")\n",
    "print(F.readline())\n",
    "F.close()"
   ]
  },
  {
   "cell_type": "code",
   "execution_count": 71,
   "id": "2a5d38f8-0b27-4e25-9dd7-3226aac96906",
   "metadata": {},
   "outputs": [],
   "source": [
    "#Add in Text\n",
    "F = open(\"New Text.txt\", \"a\")\n",
    "F.write(\"/nThe data is Working Completely\")\n",
    "F.close()\n"
   ]
  },
  {
   "cell_type": "code",
   "execution_count": 73,
   "id": "8fec1fc3-e487-40e7-bb3c-dc16c43ccb94",
   "metadata": {},
   "outputs": [
    {
     "name": "stdout",
     "output_type": "stream",
     "text": [
      "Data Structures are a way of organizing data so that it can be accessed more efficiently depending upon the situation.\n",
      "Data Structures are fundamentals of any programming language around which a program is built. \n",
      "Python helps to learn the fundamental of these data structures in a simpler way as compared to other programming languagesThe data is Working CompletelyThe data is Working CompletelyThe data is Working CompletelyThe data is Working Completely The data is Working Completely\n",
      "The data is Working Completely/nThe data is Working Completely\n"
     ]
    }
   ],
   "source": [
    "#After read\n",
    "F = open(\"New Text.txt\", \"r\")\n",
    "print(F.read())"
   ]
  },
  {
   "cell_type": "code",
   "execution_count": 3,
   "id": "80a391cd-33ca-4e85-a0d7-b3e7bf207283",
   "metadata": {},
   "outputs": [
    {
     "name": "stdout",
     "output_type": "stream",
     "text": [
      "42\n"
     ]
    }
   ],
   "source": [
    "x = lambda a,b : a*b\n",
    "print(x(6,7))"
   ]
  },
  {
   "cell_type": "code",
   "execution_count": null,
   "id": "c3dc850a-d858-4b34-80df-91ebe1a187fe",
   "metadata": {},
   "outputs": [],
   "source": []
  }
 ],
 "metadata": {
  "kernelspec": {
   "display_name": "Python 3 (ipykernel)",
   "language": "python",
   "name": "python3"
  },
  "language_info": {
   "codemirror_mode": {
    "name": "ipython",
    "version": 3
   },
   "file_extension": ".py",
   "mimetype": "text/x-python",
   "name": "python",
   "nbconvert_exporter": "python",
   "pygments_lexer": "ipython3",
   "version": "3.12.4"
  }
 },
 "nbformat": 4,
 "nbformat_minor": 5
}
